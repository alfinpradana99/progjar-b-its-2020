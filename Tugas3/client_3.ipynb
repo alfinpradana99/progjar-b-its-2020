{
 "cells": [
  {
   "cell_type": "code",
   "execution_count": 1,
   "metadata": {},
   "outputs": [],
   "source": [
    "import logging\n",
    "import requests\n",
    "import os\n",
    "import threading"
   ]
  },
  {
   "cell_type": "code",
   "execution_count": 2,
   "metadata": {},
   "outputs": [],
   "source": [
    "def download_gambar(url=None):\n",
    "    if (url is None):\n",
    "        return False\n",
    "    ff = requests.get(url)\n",
    "    tipe = dict()\n",
    "    tipe['image/png']='png'\n",
    "    tipe['image/jpg']='jpg'\n",
    "    tipe['image/jpeg']='jpg'\n",
    "\n",
    "    content_type = ff.headers['Content-Type']\n",
    "    logging.warning(content_type)\n",
    "    if (content_type in list(tipe.keys())):\n",
    "        namafile = os.path.basename(url)\n",
    "        ekstensi = tipe[content_type]\n",
    "        logging.warning(f\"writing {namafile}.{ekstensi}\")\n",
    "        fp = open(f\"{namafile}.{ekstensi}\",\"wb\")\n",
    "        fp.write(ff.content)\n",
    "        fp.close()\n",
    "    else:\n",
    "        return False"
   ]
  },
  {
   "cell_type": "code",
   "execution_count": 18,
   "metadata": {},
   "outputs": [
    {
     "name": "stderr",
     "output_type": "stream",
     "text": [
      "WARNING:root:image/jpeg\n",
      "WARNING:root:writing 5e5b52f4db896.jpg.jpg\n",
      "WARNING:root:image/jpeg\n",
      "WARNING:root:writing 5e5b52f4db896.jpg.jpg\n",
      "WARNING:root:image/jpeg\n",
      "WARNING:root:writing 5e5b52f4db896.jpg.jpg\n",
      "WARNING:root:image/jpeg\n",
      "WARNING:root:writing 5e5b52f4db896.jpg.jpg\n",
      "WARNING:root:image/jpeg\n",
      "WARNING:root:writing 5e5b52f4db896.jpg.jpg\n"
     ]
    }
   ],
   "source": [
    "tret = []\n",
    "for i in range (5):\n",
    "    t = threading.Thread(target=download_gambar, args=('https://asset.kompas.com/crops/qz_jJxyaZgGgboomdCEXsfbSpec=/0x0:998x665/740x500/data/photo/2020/03/01/5e5b52f4db896.jpg',))\n",
    "    tret.append(t)\n",
    "\n",
    "for thr in tret:\n",
    "    thr.start()"
   ]
  }
 ],
 "metadata": {
  "kernelspec": {
   "display_name": "Python 3",
   "language": "python",
   "name": "python3"
  },
  "language_info": {
   "codemirror_mode": {
    "name": "ipython",
    "version": 3
   },
   "file_extension": ".py",
   "mimetype": "text/x-python",
   "name": "python",
   "nbconvert_exporter": "python",
   "pygments_lexer": "ipython3",
   "version": "3.7.3"
  }
 },
 "nbformat": 4,
 "nbformat_minor": 2
}
